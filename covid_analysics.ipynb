{
 "cells": [
  {
   "cell_type": "code",
   "execution_count": null,
   "id": "1c8151bc",
   "metadata": {},
   "outputs": [],
   "source": [
    "## Import Lib\n",
    "import numpy as np\n",
    "import pandas as pd\n",
    "import seaborn as sns\n",
    "import matplotlib.pyplot as plt"
   ]
  },
  {
   "cell_type": "code",
   "execution_count": null,
   "id": "b0adbaad",
   "metadata": {},
   "outputs": [],
   "source": [
    "##Load CSV File\n",
    "df = pd.read_csv('Covid Data.csv')\n",
    "df.sample(5)"
   ]
  },
  {
   "cell_type": "code",
   "execution_count": 11,
   "id": "cb49441e",
   "metadata": {},
   "outputs": [
    {
     "data": {
      "text/plain": [
       "Index(['USMER', 'MEDICAL_UNIT', 'SEX', 'PATIENT_TYPE', 'DATE_DIED', 'INTUBED',\n",
       "       'PNEUMONIA', 'AGE', 'PREGNANT', 'DIABETES', 'COPD', 'ASTHMA', 'INMSUPR',\n",
       "       'HIPERTENSION', 'OTHER_DISEASE', 'CARDIOVASCULAR', 'OBESITY',\n",
       "       'RENAL_CHRONIC', 'TOBACCO', 'CLASIFFICATION_FINAL', 'ICU'],\n",
       "      dtype='object')"
      ]
     },
     "execution_count": 11,
     "metadata": {},
     "output_type": "execute_result"
    }
   ],
   "source": [
    "##Print All Col:-\n",
    "df.columns"
   ]
  },
  {
   "cell_type": "code",
   "execution_count": 14,
   "id": "0100005e",
   "metadata": {},
   "outputs": [
    {
     "data": {
      "text/plain": [
       "21"
      ]
     },
     "execution_count": 14,
     "metadata": {},
     "output_type": "execute_result"
    }
   ],
   "source": [
    "##Total Number Of Col in DataSet\n",
    "len(df.columns)"
   ]
  },
  {
   "cell_type": "markdown",
   "id": "8efa5b21",
   "metadata": {},
   "source": [
    "<!-- Describe All Col:-\n",
    "NOTE:-  In the Boolean features, 1 means \"yes\" and 2 means \"no\". values as 97 and 99 are missing data.\n",
    "    \n",
    "1)USMER:- Indicates whether the patient treated medical units of the first, second or third level.\n",
    "2)MEDICAL_UNIT:- type of institution of the National Health System that provided the care.\n",
    "3)SEX:- 1 for female and 2 for male.\n",
    "4)PATIENT_TYPE:- type of care the patient received in the unit. 1 for returned home and 2 for hospitalization.\n",
    "5)DATE_DIED:-If the patient died indicate the date of death, and otherwise indicate 9999-99-99\n",
    "6)INTUBED:- The patient was connected to the ventilator.\n",
    "7)PNEUMONIA:- whether the patient already have air sacs inflammation or not\n",
    "8)AGE:-age of the patient.\n",
    "9)PREGNANT:-whether the patient is pregnant or not.\n",
    "10)DIABETES:-whether the patient has diabetes or not.\n",
    "11)COPD:- Indicates whether the patient has Chronic obstructive pulmonary disease or not.\n",
    "12)ASTHMA:-whether the patient has asthma or not.\n",
    "13)INMSUPR:-the patient is immunosuppressed or not.\n",
    "14)HIPERTENSION:- whether the patient has hypertension or not.\n",
    "15)OTHER_DISEASE:- whether the patient has other disease or not.\n",
    "16)CARDIOVASCULAR:- whether the patient has heart or blood vessels related disease.\n",
    "17)OBESITY:- whether the patient is obese or not.\n",
    "18)RENAL_CHRONIC:- whether the patient has chronic renal disease or not.\n",
    "19)TOBACCO:- whether the patient is a tobacco user.\n",
    "20)CLASIFFICATION_FINAL:- covid test findings. Values 1-3 mean that the patient was diagnosed with covid in different\n",
    "degrees. 4 or higher means that the patient is not a carrier of covid or that the test is inconclusive\n",
    "21)ICU:- Indicates whether the patient had been admitted to an Intensive Care Unit.\n",
    "    \n",
    " -->"
   ]
  },
  {
   "cell_type": "code",
   "execution_count": 34,
   "id": "73b193a5",
   "metadata": {},
   "outputs": [
    {
     "data": {
      "text/plain": [
       "Index(['USMER', 'MEDICAL_UNIT', 'SEX', 'PATIENT_TYPE', 'INTUBED', 'PNEUMONIA',\n",
       "       'AGE', 'PREGNANT', 'DIABETES', 'COPD', 'ASTHMA', 'INMSUPR',\n",
       "       'HIPERTENSION', 'OTHER_DISEASE', 'CARDIOVASCULAR', 'OBESITY',\n",
       "       'RENAL_CHRONIC', 'TOBACCO', 'CLASIFFICATION_FINAL', 'ICU'],\n",
       "      dtype='object')"
      ]
     },
     "execution_count": 34,
     "metadata": {},
     "output_type": "execute_result"
    }
   ],
   "source": [
    "# First separate all the columns data type wise \n",
    "##find Numeric Col:- \n",
    "numeric_column=df.columns[df.dtypes != object]\n",
    "numeric_column"
   ]
  },
  {
   "cell_type": "code",
   "execution_count": 36,
   "id": "499c189a",
   "metadata": {},
   "outputs": [
    {
     "data": {
      "text/plain": [
       "Index(['DATE_DIED'], dtype='object')"
      ]
     },
     "execution_count": 36,
     "metadata": {},
     "output_type": "execute_result"
    }
   ],
   "source": [
    "##find String Col:- \n",
    "string_column=df.columns[df.dtypes == object]\n",
    "string_column"
   ]
  },
  {
   "cell_type": "code",
   "execution_count": 38,
   "id": "b8f1cecb",
   "metadata": {},
   "outputs": [
    {
     "name": "stdout",
     "output_type": "stream",
     "text": [
      "20\n",
      "1\n"
     ]
    }
   ],
   "source": [
    "## Total Numeric Col & String Col\n",
    "Total_Numeric_Col=len(numeric_column)\n",
    "Total_String_Col=len(string_column)\n",
    "print(Total_Numeric_Col)\n",
    "print(Total_String_Col)"
   ]
  },
  {
   "cell_type": "code",
   "execution_count": 50,
   "id": "fbbfb940",
   "metadata": {},
   "outputs": [
    {
     "name": "stdout",
     "output_type": "stream",
     "text": [
      "USMER  Column in missing value:-  0\n",
      "MEDICAL_UNIT  Column in missing value:-  0\n",
      "SEX  Column in missing value:-  0\n",
      "PATIENT_TYPE  Column in missing value:-  0\n",
      "DATE_DIED  Column in missing value:-  0\n",
      "INTUBED  Column in missing value:-  855869\n",
      "PNEUMONIA  Column in missing value:-  16003\n",
      "AGE  Column in missing value:-  221\n",
      "PREGNANT  Column in missing value:-  523511\n",
      "DIABETES  Column in missing value:-  0\n",
      "COPD  Column in missing value:-  0\n",
      "ASTHMA  Column in missing value:-  0\n",
      "INMSUPR  Column in missing value:-  0\n",
      "HIPERTENSION  Column in missing value:-  0\n",
      "OTHER_DISEASE  Column in missing value:-  0\n",
      "CARDIOVASCULAR  Column in missing value:-  0\n",
      "OBESITY  Column in missing value:-  0\n",
      "RENAL_CHRONIC  Column in missing value:-  0\n",
      "TOBACCO  Column in missing value:-  0\n",
      "CLASIFFICATION_FINAL  Column in missing value:-  0\n",
      "ICU  Column in missing value:-  856032\n"
     ]
    }
   ],
   "source": [
    "##Find Missing Value In DataSet:- missing value not find isnull and isna method because missing value incicate 97 or 99\n",
    "for i in df.columns:\n",
    "    print(i,\" Column in missing value:- \",df[(df[i]==97) | (df[i]==99)].shape[0])"
   ]
  },
  {
   "cell_type": "code",
   "execution_count": null,
   "id": "a52c3533",
   "metadata": {},
   "outputs": [],
   "source": [
    "##Handle Missing Value in INTUBED  Column:-\n",
    "##df[(df['INTUBED']!=97) | (df['INTUBED']!=99)]\n",
    "missing_value_INTUBED=df[(df['INTUBED']==97) | (df['INTUBED']==99)]\n",
    "missing_value_INTUBED.mean"
   ]
  },
  {
   "cell_type": "code",
   "execution_count": 57,
   "id": "14c0fbb2",
   "metadata": {},
   "outputs": [
    {
     "data": {
      "text/plain": [
       "1048575"
      ]
     },
     "execution_count": 57,
     "metadata": {},
     "output_type": "execute_result"
    }
   ],
   "source": []
  },
  {
   "cell_type": "code",
   "execution_count": null,
   "id": "9a94da4b",
   "metadata": {},
   "outputs": [],
   "source": []
  }
 ],
 "metadata": {
  "kernelspec": {
   "display_name": "Python 3 (ipykernel)",
   "language": "python",
   "name": "python3"
  },
  "language_info": {
   "codemirror_mode": {
    "name": "ipython",
    "version": 3
   },
   "file_extension": ".py",
   "mimetype": "text/x-python",
   "name": "python",
   "nbconvert_exporter": "python",
   "pygments_lexer": "ipython3",
   "version": "3.9.13"
  }
 },
 "nbformat": 4,
 "nbformat_minor": 5
}
